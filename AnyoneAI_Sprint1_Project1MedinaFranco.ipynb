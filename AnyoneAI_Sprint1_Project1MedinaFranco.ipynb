{
 "cells": [
  {
   "cell_type": "markdown",
   "metadata": {
    "id": "ae010f33-c6b5-475d-acd5-d37df011a5bd",
    "tags": []
   },
   "source": [
    "# AnyoneAI - Project I\n",
    "\n",
    "# An analysis of NBA players in the 2021/2022 season"
   ]
  },
  {
   "cell_type": "markdown",
   "metadata": {
    "id": "feb5643a-e69d-45d5-8143-67e7cac8db62"
   },
   "source": [
    "Hi! this is the first of several projects we're going to be working on during this course. \n",
    "You will be expected to finish this on your own, but you can use the available channels on Discord to ask questions and help others. Please read the entire notebook before starting, this will give you a better idea of what you need to accomplish.\n",
    "\n",
    "This project will rely heavily in the use of API as data sources. Contrary to most machine learning challenges and competitions, working in the industry usually requires the ML Developer to work with multiple teams and use heterogeneous sources of information to get the necessary data to solve a particular problem. Access to data is often provided through application programming interfaces (APIs), whether internal or external to the organization. It is very important to understand how to interact with APIs to collect data in our day to day work.\n",
    "\n",
    "You might be wondering: why basketball? The main reason is availability of data.\n",
    "\n",
    "The sport is played at a fast pace, with hundreds of plays in each single game, thousands of games in a season, and with a relatively small amount of on-court players, which gives them a lot of interactions with the ball, which in turn provides an oportunity to collect a great amount of data about each player performance."
   ]
  },
  {
   "cell_type": "markdown",
   "metadata": {
    "id": "01778870-2619-4f79-a9a9-39e5d368cc18"
   },
   "source": [
    "These are the objectives of the project:\n",
    "- Understanding how to query an API to create a dataset with Python and Pandas\n",
    "- Learning how to cleanup a dataset and generate new fields from calculated data\n",
    "- Storing the created dataset in a serialized manner\n",
    "- Generating statistics about the data\n",
    "- Visualizing data"
   ]
  },
  {
   "cell_type": "markdown",
   "metadata": {
    "id": "67f24c7c-0f5e-4e1e-afe9-d7a1a99665f5"
   },
   "source": [
    "## Introduction"
   ]
  },
  {
   "cell_type": "markdown",
   "metadata": {
    "id": "efb6e67d-55c9-4af3-9f9b-ca503be01355"
   },
   "source": [
    "### A brief description of basketball and the NBA"
   ]
  },
  {
   "cell_type": "markdown",
   "metadata": {
    "id": "7d6da412-3b11-4541-9165-b4eea8570c3e"
   },
   "source": [
    "The National Basketball Association is the main basketball league in the United States of America. It currently features 30 teams from different cities, divided in 2 conferences (East and West) of 15 teams. Each team plays a total of 82 games during the regular season. After that, the 8 teams with better records from each conference are seeded in a playoff format, with the winner of each conference playing the finals to determine the eventual champion. NBA seasons usually play out between october of one year, to june of the next year, so for example the current season being played is called the 2021/2022 season.\n",
    "\n",
    "As in most leagues in the world, the game is played 5 vs 5 players, with as many as 9 reserve players that can rotate with the starters as many times as the team wants. Games are played to 48 minutes, so the total amount of minutes of combined play time for any team in a single game with no added time is 240 minutes. If the score is tied at the end of the 48 minutes, 5 minutes of extra time are played, this continues until a winner is decided.\n",
    "\n",
    "Even though they can play multiple positions, players are usually classified according to the following positions:\n",
    "\n",
    "- Guards\n",
    "    - Point Guards\n",
    "    - Shooting Guards\n",
    "- Forwards\n",
    "    - Small Forwards\n",
    "    - Power Forwards\n",
    "- Centers\n",
    "\n",
    "We will mainly focus on the three main positions: Guards/Forwards/Centers"
   ]
  },
  {
   "cell_type": "markdown",
   "metadata": {
    "id": "6cfdce7d-d6c4-4fb4-8906-4fbca324ab45"
   },
   "source": [
    "### The dataset"
   ]
  },
  {
   "cell_type": "markdown",
   "metadata": {
    "id": "06cbbd6b-4588-4991-890d-c0cdc4240e0a"
   },
   "source": [
    "You'll be in charge of creating our dataset. We want to create a single pandas dataframe with information about all active players in the current NBA season. \n",
    "The dataset needs to have the following structure:\n",
    "\n",
    "- Personal Information\n",
    "    - player_id (int) (INDEX) \n",
    "    - player_name (str)\n",
    "    - team_name (str)\n",
    "    - position (str)\n",
    "    - height (int) (in centimeters) \n",
    "    - weight (float) (in kilograms)\n",
    "    - country of origin (str)\n",
    "    - date_of_birth (datetime)\n",
    "    - age (str) (years and months)\n",
    "    - years_of_experience (int) (years since entering the league)\n",
    "    - Draft position (int)\n",
    "- Player career statistics\n",
    "    - games played (int)\n",
    "    - minutes per game (float)\n",
    "    - points per game (float)\n",
    "    - rebounds per game (float)\n",
    "    - assists per game (float)\n",
    "    - steals per game (float)\n",
    "    - blocks per game (float)\n",
    "- Misc\n",
    "    - salary in dollars (int) (contract value for this season only)\n",
    "    - next_game_date (datetime)"
   ]
  },
  {
   "cell_type": "markdown",
   "metadata": {
    "id": "a8549d4d-6773-4eaf-939e-7dd96b16d656"
   },
   "source": [
    "Here is a sample of how the final result should look like:"
   ]
  },
  {
   "cell_type": "code",
   "execution_count": null,
   "metadata": {
    "id": "4d6d7c9f-2030-42d0-87ac-017dbe6a7d19",
    "outputId": "51a3478b-301f-419a-de38-7230a1de1979"
   },
   "outputs": [
    {
     "data": {
      "text/html": [
       "<div>\n",
       "<style scoped>\n",
       "    .dataframe tbody tr th:only-of-type {\n",
       "        vertical-align: middle;\n",
       "    }\n",
       "\n",
       "    .dataframe tbody tr th {\n",
       "        vertical-align: top;\n",
       "    }\n",
       "\n",
       "    .dataframe thead th {\n",
       "        text-align: right;\n",
       "    }\n",
       "</style>\n",
       "<table border=\"1\" class=\"dataframe\">\n",
       "  <thead>\n",
       "    <tr style=\"text-align: right;\">\n",
       "      <th></th>\n",
       "      <th>PLAYER_NAME</th>\n",
       "      <th>TEAM_NAME</th>\n",
       "      <th>POSITION</th>\n",
       "      <th>HEIGHT</th>\n",
       "      <th>WEIGHT</th>\n",
       "      <th>COUNTRY</th>\n",
       "      <th>BIRTHDATE</th>\n",
       "      <th>SEASON_EXP</th>\n",
       "      <th>DRAFT_NUMBER</th>\n",
       "      <th>GP</th>\n",
       "      <th>MIN</th>\n",
       "      <th>PTS</th>\n",
       "      <th>REB</th>\n",
       "      <th>AST</th>\n",
       "      <th>STL</th>\n",
       "      <th>BLK</th>\n",
       "      <th>GAME_DATE</th>\n",
       "      <th>SALARY</th>\n",
       "      <th>AGE</th>\n",
       "    </tr>\n",
       "  </thead>\n",
       "  <tbody>\n",
       "    <tr>\n",
       "      <th>200765</th>\n",
       "      <td>Rajon Rondo</td>\n",
       "      <td>Cavaliers</td>\n",
       "      <td>Guard</td>\n",
       "      <td>185</td>\n",
       "      <td>82</td>\n",
       "      <td>USA</td>\n",
       "      <td>1986-02-22</td>\n",
       "      <td>15</td>\n",
       "      <td>21</td>\n",
       "      <td>957</td>\n",
       "      <td>29.9</td>\n",
       "      <td>9.8</td>\n",
       "      <td>4.5</td>\n",
       "      <td>7.9</td>\n",
       "      <td>1.6</td>\n",
       "      <td>0.1</td>\n",
       "      <td>2022-04-10</td>\n",
       "      <td>2641691</td>\n",
       "      <td>36 years, 1 months, 19 days</td>\n",
       "    </tr>\n",
       "    <tr>\n",
       "      <th>203107</th>\n",
       "      <td>Tomas Satoransky</td>\n",
       "      <td>Wizards</td>\n",
       "      <td>Guard</td>\n",
       "      <td>201</td>\n",
       "      <td>95</td>\n",
       "      <td>Czech Republic</td>\n",
       "      <td>1991-10-30</td>\n",
       "      <td>5</td>\n",
       "      <td>32</td>\n",
       "      <td>388</td>\n",
       "      <td>22.2</td>\n",
       "      <td>6.9</td>\n",
       "      <td>2.9</td>\n",
       "      <td>4.1</td>\n",
       "      <td>0.8</td>\n",
       "      <td>0.2</td>\n",
       "      <td>2022-04-10</td>\n",
       "      <td>10468119</td>\n",
       "      <td>30 years, 5 months, 11 days</td>\n",
       "    </tr>\n",
       "    <tr>\n",
       "      <th>204060</th>\n",
       "      <td>Joe Ingles</td>\n",
       "      <td>Trail Blazers</td>\n",
       "      <td>Forward</td>\n",
       "      <td>203</td>\n",
       "      <td>100</td>\n",
       "      <td>Australia</td>\n",
       "      <td>1987-10-02</td>\n",
       "      <td>7</td>\n",
       "      <td>Undrafted</td>\n",
       "      <td>590</td>\n",
       "      <td>25.7</td>\n",
       "      <td>8.6</td>\n",
       "      <td>3.2</td>\n",
       "      <td>3.8</td>\n",
       "      <td>0.9</td>\n",
       "      <td>0.2</td>\n",
       "      <td>2022-04-10</td>\n",
       "      <td>14000000</td>\n",
       "      <td>34 years, 6 months, 8 days</td>\n",
       "    </tr>\n",
       "  </tbody>\n",
       "</table>\n",
       "</div>"
      ],
      "text/plain": [
       "             PLAYER_NAME      TEAM_NAME POSITION  HEIGHT  WEIGHT  \\\n",
       "200765       Rajon Rondo      Cavaliers    Guard     185      82   \n",
       "203107  Tomas Satoransky        Wizards    Guard     201      95   \n",
       "204060        Joe Ingles  Trail Blazers  Forward     203     100   \n",
       "\n",
       "               COUNTRY  BIRTHDATE  SEASON_EXP DRAFT_NUMBER   GP   MIN  PTS  \\\n",
       "200765             USA 1986-02-22          15           21  957  29.9  9.8   \n",
       "203107  Czech Republic 1991-10-30           5           32  388  22.2  6.9   \n",
       "204060       Australia 1987-10-02           7    Undrafted  590  25.7  8.6   \n",
       "\n",
       "        REB  AST  STL  BLK  GAME_DATE    SALARY                          AGE  \n",
       "200765  4.5  7.9  1.6  0.1 2022-04-10   2641691  36 years, 1 months, 19 days  \n",
       "203107  2.9  4.1  0.8  0.2 2022-04-10  10468119  30 years, 5 months, 11 days  \n",
       "204060  3.2  3.8  0.9  0.2 2022-04-10  14000000   34 years, 6 months, 8 days  "
      ]
     },
     "execution_count": 2,
     "metadata": {},
     "output_type": "execute_result"
    }
   ],
   "source": [
    "import pandas as pd\n",
    "\n",
    "sample_dict = {\n",
    "    'PLAYER_NAME': {200765: 'Rajon Rondo',  203107: 'Tomas Satoransky',  204060: 'Joe Ingles'},\n",
    "    'TEAM_NAME': {200765: 'Cavaliers', 203107: 'Wizards', 204060: 'Trail Blazers'},\n",
    "    'POSITION': {200765: 'Guard', 203107: 'Guard', 204060: 'Forward'},\n",
    "    'HEIGHT': {200765: 185, 203107: 201, 204060: 203},\n",
    "    'WEIGHT': {200765: 82, 203107: 95, 204060: 100},\n",
    "    'COUNTRY': {200765: 'USA', 203107: 'Czech Republic', 204060: 'Australia'},\n",
    "    'BIRTHDATE': {200765: pd.Timestamp('1986-02-22 00:00:00'), 203107: pd.Timestamp('1991-10-30 00:00:00'), 204060: pd.Timestamp('1987-10-02 00:00:00')},\n",
    "    'SEASON_EXP': {200765: 15, 203107: 5, 204060: 7},\n",
    "    'DRAFT_NUMBER': {200765: '21', 203107: '32', 204060: 'Undrafted'},\n",
    "    'GP': {200765: 957, 203107: 388, 204060: 590},\n",
    "    'MIN': {200765: 29.9, 203107: 22.2, 204060: 25.7},\n",
    "    'PTS': {200765: 9.8, 203107: 6.9, 204060: 8.6},\n",
    "    'REB': {200765: 4.5, 203107: 2.9, 204060: 3.2},\n",
    "    'AST': {200765: 7.9, 203107: 4.1, 204060: 3.8},\n",
    "    'STL': {200765: 1.6, 203107: 0.8, 204060: 0.9},\n",
    "    'BLK': {200765: 0.1, 203107: 0.2, 204060: 0.2},\n",
    "    'GAME_DATE': {200765: pd.Timestamp('2022-04-10 00:00:00'), 203107: pd.Timestamp('2022-04-10 00:00:00'), 204060: pd.Timestamp('2022-04-10 00:00:00')},\n",
    "    'SALARY': {200765: 2641691, 203107: 10468119, 204060: 14000000},\n",
    "    'AGE': {200765: '36 years, 1 months, 19 days', 203107: '30 years, 5 months, 11 days', 204060: '34 years, 6 months, 8 days'}\n",
    "}\n",
    "pd.DataFrame(sample_dict)"
   ]
  },
  {
   "cell_type": "markdown",
   "metadata": {
    "id": "2f6e860b-d366-4198-b74e-805fcc7bce6c"
   },
   "source": [
    "## Collecting information for building our dataset"
   ]
  },
  {
   "cell_type": "markdown",
   "metadata": {
    "id": "54f9b97d-32f9-4ee1-830c-724d28b85833"
   },
   "source": [
    "In this section, we're only going to work on collecting the necessary raw data to build the required dataset. Don't worry about finishing everything here, we'll generate the appropiate fields and merge the data into a single dataframe in the next section.\n",
    "\n",
    "To get the information, you can use any public and free API you can find, but you have to provide the code that gets the information here. We recommend using this API:\n",
    " \n",
    "- https://github.com/swar/nba_api\n",
    "\n",
    "    This is a Python library that can be used to obtain data from stats.nba.com, it provides a set of methods that abstracts you from making the http calls, but directly makes calls to nba stats page and parses the results. [Here](https://github.com/swar/nba_api/blob/master/docs/examples/Basics.ipynb) are a couple of examples on how to use it.\n",
    "    \n",
    "\n",
    "A few notes on data collection:\n",
    "\n",
    "- Start simple. Try to get all the required information for 1 player, read the APIs documentation carefuly, then think about how to use them to collect all players data. \n",
    "\n",
    "- Please bear in mind that the most public APIs have some kind of rate limit, so you have to be careful about iterating on data and making lots of requests in a short amount of time (a 1 second delay between calls to the api should be enough). Once you've collected what you needed, save it to file in order to retrieve it later without calling the API again.\n",
    "\n",
    "- A key consideration: we only want data about players that have played in the current season, so make sure to filter those out before collecting the rest of the information.\n",
    "\n",
    "- There is at least one piece of information you're not going to find in both of those APIs: the player contract information. Again you can decide to use any source, but we recommend using information provided [here](https://www.basketball-reference.com/contracts/players.html), as it lets you export the data as a csv.  "
   ]
  },
  {
   "cell_type": "markdown",
   "metadata": {
    "id": "ae032907-b133-4cf8-8026-85f853755e46"
   },
   "source": [
    "1- Create a function to find all ACTIVE players, meaning players that are listed with a team in the 2021/2022 season. For now you only need the player id, name, and team. Save the dataframe to a csv named \"nba_current_players_list.csv\". The function should return the dataframe."
   ]
  },
  {
   "cell_type": "markdown",
   "metadata": {
    "id": "ab2a86ef-3be9-42e2-a17d-111924c8ca2a"
   },
   "source": [
    "Hint: you should find an API method that can give you a list of players in just one call, this way we can filter those players we're interested in, and later will make calls for each specific player."
   ]
  },
  {
   "cell_type": "markdown",
   "metadata": {
    "id": "b5e2138b-0640-4420-9ca3-dbbe4033620c"
   },
   "source": [
    "Consider dropping: \n",
    "- All players with TEAM_ID == 0\n",
    "- All players with GAMES_PLAYED_FLAG == N\n",
    "- Player with id 1630597 (This guy is a problem ;))"
   ]
  },
  {
   "cell_type": "code",
   "execution_count": 1,
   "metadata": {},
   "outputs": [
    {
     "name": "stdout",
     "output_type": "stream",
     "text": [
      "Requirement already satisfied: nba_api in c:\\users\\fnqi\\anaconda3\\lib\\site-packages (1.1.11)\n",
      "Requirement already satisfied: requests in c:\\users\\fnqi\\anaconda3\\lib\\site-packages (from nba_api) (2.24.0)\n",
      "Requirement already satisfied: urllib3!=1.25.0,!=1.25.1,<1.26,>=1.21.1 in c:\\users\\fnqi\\anaconda3\\lib\\site-packages (from requests->nba_api) (1.25.11)\n",
      "Requirement already satisfied: chardet<4,>=3.0.2 in c:\\users\\fnqi\\anaconda3\\lib\\site-packages (from requests->nba_api) (3.0.4)\n",
      "Requirement already satisfied: certifi>=2017.4.17 in c:\\users\\fnqi\\anaconda3\\lib\\site-packages (from requests->nba_api) (2020.6.20)\n",
      "Requirement already satisfied: idna<3,>=2.5 in c:\\users\\fnqi\\anaconda3\\lib\\site-packages (from requests->nba_api) (2.10)\n",
      "Note: you may need to restart the kernel to use updated packages.\n"
     ]
    }
   ],
   "source": [
    "pip install nba_api"
   ]
  },
  {
   "cell_type": "code",
   "execution_count": 1,
   "metadata": {},
   "outputs": [
    {
     "name": "stdout",
     "output_type": "stream",
     "text": [
      "Requirement already satisfied: tqdm in c:\\users\\fnqi\\anaconda3\\lib\\site-packages (4.50.2)\n",
      "Note: you may need to restart the kernel to use updated packages.\n"
     ]
    }
   ],
   "source": [
    "pip install tqdm"
   ]
  },
  {
   "cell_type": "code",
   "execution_count": 2,
   "metadata": {},
   "outputs": [
    {
     "name": "stdout",
     "output_type": "stream",
     "text": [
      "Requirement already satisfied: unidecode in c:\\users\\fnqi\\anaconda3\\lib\\site-packages (1.3.4)Note: you may need to restart the kernel to use updated packages.\n",
      "\n"
     ]
    }
   ],
   "source": [
    "pip install unidecode"
   ]
  },
  {
   "cell_type": "code",
   "execution_count": 3,
   "metadata": {},
   "outputs": [
    {
     "name": "stdout",
     "output_type": "stream",
     "text": [
      "Requirement already satisfied: plotly in c:\\users\\fnqi\\anaconda3\\lib\\site-packages (5.7.0)\n",
      "Requirement already satisfied: six in c:\\users\\fnqi\\anaconda3\\lib\\site-packages (from plotly) (1.15.0)\n",
      "Requirement already satisfied: tenacity>=6.2.0 in c:\\users\\fnqi\\anaconda3\\lib\\site-packages (from plotly) (8.0.1)\n",
      "Note: you may need to restart the kernel to use updated packages.\n"
     ]
    }
   ],
   "source": [
    "pip install plotly"
   ]
  },
  {
   "cell_type": "code",
   "execution_count": 8,
   "metadata": {},
   "outputs": [],
   "source": [
    "import pandas as pd\n",
    "import numpy as np\n",
    "import seaborn as sns\n",
    "import time\n",
    "\n",
    "#import folium\n",
    "from tqdm.notebook import tqdm\n",
    "from nba_api.stats.endpoints import (commonallplayers,commonplayerinfo,playercareerstats,playerprofilev2)\n",
    "from unidecode import unidecode\n",
    "from datetime import date\n",
    "from dateutil.relativedelta import relativedelta\n",
    "from matplotlib import pyplot as plt\n",
    "\n",
    "\n"
   ]
  },
  {
   "cell_type": "code",
   "execution_count": 4,
   "metadata": {
    "id": "2ce48cb6-3f35-4f62-a652-edc84f171010"
   },
   "outputs": [],
   "source": [
    "### Complete in this cell: get all active players from the api\n",
    "\n",
    "def get_and_save_players_list():\n",
    "    current_players=commonallplayers.CommonAllPlayers(is_only_current_season=1, league_id='00', season='2021-22').get_data_frames()[0]\n",
    "    current_players = current_players[(current_players[\"TEAM_ID\"] != 0) & (current_players[\"GAMES_PLAYED_FLAG\"] != \"N\") & (current_players[\"PERSON_ID\"] != 1630597)]\n",
    "    current_players=current_players.iloc[:,[0,2,10]]\n",
    "    current_players.set_index('PERSON_ID', drop=True, inplace=True)\n",
    "    current_players.rename(columns={'DISPLAY_FIRST_LAST':'PLAYER_NAME'},inplace=True)\n",
    "    return current_players"
   ]
  },
  {
   "cell_type": "code",
   "execution_count": 5,
   "metadata": {
    "id": "d1619cb8-d6cf-4645-b696-a351fac2f3a9"
   },
   "outputs": [],
   "source": [
    "current_players_list = get_and_save_players_list()\n",
    "current_players_list.to_csv(\"nba_current_players_list.csv\")"
   ]
  },
  {
   "cell_type": "markdown",
   "metadata": {
    "id": "d8ea7729-4019-4d7e-9167-e412becbf215"
   },
   "source": [
    "2- Create a function to find the personal information of all players listed in the dataframe created in the previous step, and save it to a csv file named \"nba_players_personal_info.csv\". The function should also return the created dataframe."
   ]
  },
  {
   "cell_type": "markdown",
   "metadata": {
    "id": "428bef6b-05d0-4a9a-82cd-71fa81837247"
   },
   "source": [
    "OPTIONAL: iterating on a list of players and making API calls can be complex and full of errors, try a code block that handles exceptions (for example a timeout from the API) and returns the partial result before it failed, you could also save the partial information to disk."
   ]
  },
  {
   "cell_type": "code",
   "execution_count": 9,
   "metadata": {
    "id": "541491d1-33eb-4277-afb5-ff449109f680"
   },
   "outputs": [],
   "source": [
    "### Complete in this cell: Find players personal information (name, age, dob, etc), store the information in a CSV file.\n",
    "\n",
    "def get_players_personal_information(current_players_list):\n",
    "    players_personal_info=pd.DataFrame()\n",
    "\n",
    "    try:\n",
    "        for position,id_player in tqdm(enumerate(current_players_list.index)):\n",
    "            data=commonplayerinfo.CommonPlayerInfo(player_id=id_player).get_data_frames()[0]\n",
    "            players_personal_info = pd.concat([players_personal_info, data])\n",
    "            time.sleep(0.4)\n",
    "            if position % 100==0 and position !=0:\n",
    "                print(f'Tracking position: {position}')\n",
    "        print(f'All records were read correctly')\n",
    "        players_personal_info.set_index('PERSON_ID',drop=True,inplace=True)\n",
    "        players_personal_info=players_personal_info[[\"DISPLAY_FIRST_LAST\",\"TEAM_NAME\",\"POSITION\", \"HEIGHT\", \"WEIGHT\", \"COUNTRY\", \"BIRTHDATE\", \"SEASON_EXP\", \"DRAFT_NUMBER\"]]\n",
    "        players_personal_info.rename(columns={'DISPLAY_FIRST_LAST':'PLAYER_NAME'},inplace=True)\n",
    "        \n",
    "    except:\n",
    "        print(f'API Stop at position: {position}')\n",
    "    \n",
    "    finally:\n",
    "        return players_personal_info\n",
    "        "
   ]
  },
  {
   "cell_type": "code",
   "execution_count": 10,
   "metadata": {
    "id": "d34373b8-fc72-48e1-aef3-654508a27308",
    "scrolled": true
   },
   "outputs": [
    {
     "data": {
      "application/vnd.jupyter.widget-view+json": {
       "model_id": "c7aab1411861482ba4ce37645efc3dcf",
       "version_major": 2,
       "version_minor": 0
      },
      "text/plain": [
       "HBox(children=(HTML(value=''), FloatProgress(value=1.0, bar_style='info', layout=Layout(width='20px'), max=1.0…"
      ]
     },
     "metadata": {},
     "output_type": "display_data"
    },
    {
     "name": "stdout",
     "output_type": "stream",
     "text": [
      "\n",
      "API Stop at position: 23\n"
     ]
    }
   ],
   "source": [
    "players_personal_info = get_players_personal_information(current_players_list)\n",
    "players_personal_info.to_csv(\"nba_players_personal_info.csv\")"
   ]
  },
  {
   "cell_type": "markdown",
   "metadata": {
    "id": "299218a4-1d90-4f55-822a-ec059474ea69"
   },
   "source": [
    "3- Create a function to find players career statistics, store the information in a CSV file called \"nba_players_career_stats.csv\""
   ]
  },
  {
   "cell_type": "code",
   "execution_count": 81,
   "metadata": {
    "id": "1b579e0d-6899-41ce-8f7f-d7e1e5f463c2"
   },
   "outputs": [],
   "source": [
    "### Complete in this cell: find players career stats, save to csv file\n",
    "\n",
    "def get_players_career_stats(current_players_list):\n",
    "    players_career_stats=pd.DataFrame()\n",
    "\n",
    "    try:\n",
    "        for position,id_player in enumerate(current_players_list.index):\n",
    "         \n",
    "            data = playercareerstats.PlayerCareerStats(player_id=id_player,per_mode36='PerGame').career_totals_regular_season.get_data_frame()\n",
    "            players_career_stats=pd.concat([players_career_stats,data])\n",
    "            time.sleep(0.5)         \n",
    "            if position % 100==0 and position !=0:\n",
    "                print(f'Tracking position: {position}')\n",
    "                \n",
    "        print(f'All records were read correctly')\n",
    "        players_career_stats=players_career_stats[[\"PLAYER_ID\",\"GP\", \"MIN\", \"PTS\", \"REB\", \"AST\", \"STL\", \"BLK\"]]\n",
    "        \n",
    "    except:\n",
    "        print(f'API Stop at position: {position}')\n",
    "    finally:\n",
    "        return players_career_stats"
   ]
  },
  {
   "cell_type": "code",
   "execution_count": 82,
   "metadata": {
    "id": "af100c14-2b06-4019-8a6a-6299f66da4df",
    "scrolled": true
   },
   "outputs": [
    {
     "name": "stdout",
     "output_type": "stream",
     "text": [
      "Tracking position: 100\n",
      "Tracking position: 200\n",
      "Tracking position: 300\n",
      "Tracking position: 400\n",
      "Tracking position: 500\n",
      "All records were read correctly\n"
     ]
    }
   ],
   "source": [
    "players_career_stats = get_players_career_stats(current_players_list)\n",
    "players_career_stats.to_csv(\"nba_players_career_stats.csv\")"
   ]
  },
  {
   "cell_type": "markdown",
   "metadata": {
    "id": "68a65d51-6847-4811-b57f-1f858c27decd"
   },
   "source": [
    "4- Create a function to find players next games and save the information to a csv call \"nba_players_next_game.csv\""
   ]
  },
  {
   "cell_type": "code",
   "execution_count": 84,
   "metadata": {
    "id": "9c3b9b62-4eb8-434b-b808-ec94154b2a50"
   },
   "outputs": [],
   "source": [
    "### Complete in this cell: find players next game\n",
    "\n",
    "def get_players_next_game(current_players_list):\n",
    "    players_next_game=pd.DataFrame()\n",
    "\n",
    "    try:\n",
    "        for position,id_player in enumerate(current_players_list.index):\n",
    "            data = playerprofilev2.PlayerProfileV2(player_id=id_player).next_game.get_data_frame()\n",
    "            data['PLAYER_ID']=id_player\n",
    "            if data.empty:\n",
    "                data['PLAYER_ID']=id_player\n",
    "                data['GAME_DATE']=np.nan\n",
    "\n",
    "            data=data[['PLAYER_ID','GAME_DATE']]\n",
    "            players_next_game=pd.concat([players_next_game,data])\n",
    "            time.sleep(0.4)    \n",
    "            if position % 100==0 and position !=0:\n",
    "                print(f'Tracking position: {position}')\n",
    "        print(f'All records were read correctly')\n",
    "        players_next_game=players_next_game[[\"PLAYER_ID\",\"GAME_DATE\"]]\n",
    "        players_next_game.set_index(\"PLAYER_ID\",inplace=True,drop=True)\n",
    "        \n",
    "    except:\n",
    "        print(f'API Stop at position: {position}')\n",
    "    finally:\n",
    "        return players_next_game"
   ]
  },
  {
   "cell_type": "code",
   "execution_count": 85,
   "metadata": {
    "id": "17915222-3606-4bb2-93e6-27d98eea7c7b"
   },
   "outputs": [
    {
     "name": "stdout",
     "output_type": "stream",
     "text": [
      "Tracking position: 100\n",
      "Tracking position: 200\n",
      "Tracking position: 300\n",
      "Tracking position: 400\n",
      "Tracking position: 500\n",
      "All records were read correctly\n"
     ]
    }
   ],
   "source": [
    "players_next_game = get_players_next_game(current_players_list)\n",
    "players_next_game.to_csv(\"nba_players_next_game.csv\")"
   ]
  },
  {
   "cell_type": "markdown",
   "metadata": {
    "id": "55b8ce09-e5d9-4f82-87db-ffe2916cc431"
   },
   "source": [
    "5- Create a function to find players salary for this season, save the information to a csv called \"nba_players_salary.csv\". Make sure the players names format match the ones in the API, otherwise you won't be able to merge the data later."
   ]
  },
  {
   "cell_type": "markdown",
   "metadata": {
    "id": "10da071b-ca7d-429e-bb85-e731cd66abb7"
   },
   "source": [
    "Hint: Using data from the Basketball Reference page, you will have to solve 2 kinds of problems, duplicated values (for which you should keep just the first value) and players names not matching with the ones from the API. The latter problem has multiple causes, one of them is that some names are written with non ascii characters (there are libraries for dealing with that)."
   ]
  },
  {
   "cell_type": "code",
   "execution_count": 87,
   "metadata": {
    "id": "cecfecb4-62bb-41b9-b4ae-13b57c3e2198"
   },
   "outputs": [],
   "source": [
    "### Complete in this cell: find players salary, save the information to csv\n",
    "\n",
    "def get_nba_players_salaries(csv_file_path):    \n",
    "    nba_players_salaries=pd.read_html('https://www.basketball-reference.com/contracts/players.html',index_col=0)[0].droplevel(0,axis=1)\n",
    "    nba_players_salaries=nba_players_salaries[['Player','2021-22']]\n",
    "    nba_players_salaries.rename(columns={'2021-22':'SALARY'},inplace=True)\n",
    "    nba_players_salaries.drop_duplicates(subset='Player',inplace=True)\n",
    "    nba_players_salaries=nba_players_salaries[(nba_players_salaries.index!='Rk') & (nba_players_salaries.index.notna())]\n",
    "    s=lambda x: unidecode(x)\n",
    "    nba_players_salaries['Player']=nba_players_salaries['Player'].apply(s)\n",
    "    \n",
    "    return nba_players_salaries"
   ]
  },
  {
   "cell_type": "code",
   "execution_count": 88,
   "metadata": {
    "id": "72f0edd5-c702-463e-8e17-4270a3131bba"
   },
   "outputs": [],
   "source": [
    "players_salaries = get_nba_players_salaries(\"contracts.csv\")\n",
    "players_salaries.to_csv(\"nba_players_salary.csv\")"
   ]
  },
  {
   "cell_type": "code",
   "execution_count": 89,
   "metadata": {},
   "outputs": [
    {
     "data": {
      "text/html": [
       "<div>\n",
       "<style scoped>\n",
       "    .dataframe tbody tr th:only-of-type {\n",
       "        vertical-align: middle;\n",
       "    }\n",
       "\n",
       "    .dataframe tbody tr th {\n",
       "        vertical-align: top;\n",
       "    }\n",
       "\n",
       "    .dataframe thead th {\n",
       "        text-align: right;\n",
       "    }\n",
       "</style>\n",
       "<table border=\"1\" class=\"dataframe\">\n",
       "  <thead>\n",
       "    <tr style=\"text-align: right;\">\n",
       "      <th>Rk</th>\n",
       "      <th>Player</th>\n",
       "      <th>SALARY</th>\n",
       "    </tr>\n",
       "  </thead>\n",
       "  <tbody>\n",
       "    <tr>\n",
       "      <th>1</th>\n",
       "      <td>Stephen Curry</td>\n",
       "      <td>$45,780,966</td>\n",
       "    </tr>\n",
       "    <tr>\n",
       "      <th>2</th>\n",
       "      <td>John Wall</td>\n",
       "      <td>$44,310,840</td>\n",
       "    </tr>\n",
       "    <tr>\n",
       "      <th>3</th>\n",
       "      <td>Russell Westbrook</td>\n",
       "      <td>$44,211,146</td>\n",
       "    </tr>\n",
       "    <tr>\n",
       "      <th>4</th>\n",
       "      <td>James Harden</td>\n",
       "      <td>$43,848,000</td>\n",
       "    </tr>\n",
       "    <tr>\n",
       "      <th>5</th>\n",
       "      <td>LeBron James</td>\n",
       "      <td>$41,180,544</td>\n",
       "    </tr>\n",
       "    <tr>\n",
       "      <th>...</th>\n",
       "      <td>...</td>\n",
       "      <td>...</td>\n",
       "    </tr>\n",
       "    <tr>\n",
       "      <th>608</th>\n",
       "      <td>Skylar Mays</td>\n",
       "      <td>$34,231</td>\n",
       "    </tr>\n",
       "    <tr>\n",
       "      <th>611</th>\n",
       "      <td>Terry Taylor</td>\n",
       "      <td>$21,270</td>\n",
       "    </tr>\n",
       "    <tr>\n",
       "      <th>612</th>\n",
       "      <td>Duane Washington Jr.</td>\n",
       "      <td>$21,270</td>\n",
       "    </tr>\n",
       "    <tr>\n",
       "      <th>615</th>\n",
       "      <td>Trent Forrest</td>\n",
       "      <td>$8,558</td>\n",
       "    </tr>\n",
       "    <tr>\n",
       "      <th>617</th>\n",
       "      <td>Kessler Edwards</td>\n",
       "      <td>$5,318</td>\n",
       "    </tr>\n",
       "  </tbody>\n",
       "</table>\n",
       "<p>517 rows × 2 columns</p>\n",
       "</div>"
      ],
      "text/plain": [
       "Rk                 Player       SALARY\n",
       "1           Stephen Curry  $45,780,966\n",
       "2               John Wall  $44,310,840\n",
       "3       Russell Westbrook  $44,211,146\n",
       "4            James Harden  $43,848,000\n",
       "5            LeBron James  $41,180,544\n",
       "..                    ...          ...\n",
       "608           Skylar Mays      $34,231\n",
       "611          Terry Taylor      $21,270\n",
       "612  Duane Washington Jr.      $21,270\n",
       "615         Trent Forrest       $8,558\n",
       "617       Kessler Edwards       $5,318\n",
       "\n",
       "[517 rows x 2 columns]"
      ]
     },
     "execution_count": 89,
     "metadata": {},
     "output_type": "execute_result"
    }
   ],
   "source": [
    "players_salaries"
   ]
  },
  {
   "cell_type": "markdown",
   "metadata": {
    "id": "5bd1cb5a-d9d1-454e-80d3-81521ac1d94e"
   },
   "source": [
    "6- Create a function to merge the created dataframes: players_personal_info, players_career_stats, players_next_game, players_salaries. For each dataframe, select only the subset of columns needed to create the dataset described in section \"The Dataset\"\n",
    "\n",
    "    - Players info: \"PLAYER_NAME\", \"TEAM_NAME\", \"POSITION\", \"HEIGHT\", \"WEIGHT\", \"COUNTRY\", \"BIRTHDATE\", \"SEASON_EXP\", \"DRAFT_NUMBER\"\n",
    "    - Players stats: \"GP\", \"MIN\", \"PTS\", \"REB\", \"AST\", \"STL\", \"BLK\"\n",
    "    - Misc: \"GAME_DATE\", \"SALARY\"\n",
    "\n",
    "Save the result to a csv called \"raw_nba_players_dataset.csv\""
   ]
  },
  {
   "cell_type": "markdown",
   "metadata": {
    "id": "4bb26887-9030-49dd-aa24-6433df8d6f50"
   },
   "source": [
    "Hint: Before merging the data, you should make sure all four dataframes have the same length, are indexed by PERSON_ID and have the same keys"
   ]
  },
  {
   "cell_type": "code",
   "execution_count": 108,
   "metadata": {
    "id": "81bb411a-ecf4-4cd8-8cd8-2d9259397324"
   },
   "outputs": [],
   "source": [
    "### Complete in this cell: merge the dataframes\n",
    "def merge_dataframes(players_personal_info, players_career_stats, players_next_game, players_salaries):\n",
    "    players_personal_career_stats=players_personal_info.merge(players_career_stats,left_on='PERSON_ID',right_on='PLAYER_ID')\n",
    "    players_personal_career_stats_next_game=players_personal_career_stats.merge(players_next_game, left_on='PLAYER_ID', right_on='PLAYER_ID',how='left')\n",
    "    players_personal_career_stats_next_game_salary=players_personal_career_stats_next_game.merge(players_salaries,left_on='PLAYER_NAME',right_on='Player',how='left')\n",
    "    players_personal_career_stats_next_game_salary=players_personal_career_stats_next_game_salary[[\"PLAYER_NAME\", \"TEAM_NAME\", \"POSITION\", \"HEIGHT\", \"WEIGHT\", \"COUNTRY\", \"BIRTHDATE\", \"SEASON_EXP\", \"DRAFT_NUMBER\",\"GP\", \"MIN\", \"PTS\", \"REB\", \"AST\", \"STL\", \"BLK\",\"GAME_DATE\", \"SALARY\"]]\n",
    "    return  players_personal_career_stats_next_game_salary"
   ]
  },
  {
   "cell_type": "code",
   "execution_count": 111,
   "metadata": {
    "id": "388ceb75-3de2-4e28-a10a-d389d7617905"
   },
   "outputs": [],
   "source": [
    "raw_players_dataset = merge_dataframes(players_personal_info, players_career_stats, players_next_game, players_salaries)\n",
    "raw_players_dataset.to_csv(\"raw_nba_players_dataset.csv\")"
   ]
  },
  {
   "cell_type": "markdown",
   "metadata": {
    "id": "b08b2775-dd82-415a-8a6e-46c51b8c3f2b"
   },
   "source": [
    "## Data Cleaning and Preprocessing"
   ]
  },
  {
   "cell_type": "markdown",
   "metadata": {
    "id": "c52dd5c8-5536-4b0e-a51a-6d7ff4140c0b"
   },
   "source": [
    "There are several steps that you will have to follow, depending on where you have collected the data some information might be missing.  \n",
    "\n",
    "- Height and weight might need to be converted to the metric system\n",
    "- Players that have no team assigned should be removed from the dataset\n",
    "- Players with no contracts (meaning they don't have a salary defined) should be removed from the dataset\n",
    "- If the \"position\" data is ambiguous (listed at multiple positions), use the first value\n",
    "- If the player does not have height or weight data, use the average for its position as its value\n",
    "- In order to fill the column next_game_date, just consider the date of the next game of each player's team. "
   ]
  },
  {
   "cell_type": "markdown",
   "metadata": {
    "id": "af006585-e338-429a-a0ef-2598430f8b32"
   },
   "source": [
    "1- Create a copy of your dataset named \"working_df\", remove all players with no teams or salary"
   ]
  },
  {
   "cell_type": "code",
   "execution_count": 138,
   "metadata": {
    "id": "4327e4da-a3e0-4870-a7a4-abea76fb2205"
   },
   "outputs": [],
   "source": [
    "### Complete in this cell: copy the dataset and drop NaNs in team or salary\n",
    "def copy_and_delete_nan(players_dataset):\n",
    "    working_df=players_dataset.copy()\n",
    "    working_df=working_df[(working_df['SALARY'].notna()) & (working_df['TEAM_NAME'].notna())]    \n",
    "    return working_df"
   ]
  },
  {
   "cell_type": "code",
   "execution_count": 139,
   "metadata": {
    "id": "93e2d191-dadd-481c-91fa-ff5aac1c824b"
   },
   "outputs": [],
   "source": [
    "working_df = copy_and_delete_nan(raw_players_dataset)"
   ]
  },
  {
   "cell_type": "markdown",
   "metadata": {
    "id": "9ccbdce4-cf4f-48e2-a597-49816f18a400"
   },
   "source": [
    "2- Cast Salary, Birthday and Game Date columns to its corresponding type (int, datetime) "
   ]
  },
  {
   "cell_type": "code",
   "execution_count": 140,
   "metadata": {
    "id": "d3b4d50c-4677-4014-88cc-78f142811b8b"
   },
   "outputs": [],
   "source": [
    "### Complete in this cell: cast all columns to its type\n",
    "def cast_columns(working_df):\n",
    "    working_df['SALARY'].replace({\"\\$\":\"\",\",\":\"\"}, regex=True, inplace=True)\n",
    "    working_df[\"SALARY\"]=working_df[\"SALARY\"].astype(int)\n",
    "    working_df[\"BIRTHDATE\"] = pd.to_datetime(working_df[\"BIRTHDATE\"])\n",
    "    working_df[\"GAME_DATE\"] = pd.to_datetime(working_df[\"GAME_DATE\"])"
   ]
  },
  {
   "cell_type": "code",
   "execution_count": 141,
   "metadata": {
    "id": "680875dc-2478-4213-b2f7-4a1da03ec71f"
   },
   "outputs": [],
   "source": [
    "cast_columns(working_df)"
   ]
  },
  {
   "cell_type": "markdown",
   "metadata": {
    "id": "f20f28d7-e6a1-4e6d-a51b-80ef8be06fd5"
   },
   "source": [
    "3- Create a function that converts the height column from height in feet and inches to centimeters"
   ]
  },
  {
   "cell_type": "code",
   "execution_count": 142,
   "metadata": {
    "id": "8d56db84-cb66-4ca5-8789-b8b6f7938a0b"
   },
   "outputs": [],
   "source": [
    "### Complete in this cell: convert height column\n",
    "def convert_height_column(working_df):\n",
    "    working_df['HEIGHT']=working_df['HEIGHT'].apply(lambda x: int(round((int(x[0])*30.48) + (int(x[2:])*2.54))))"
   ]
  },
  {
   "cell_type": "code",
   "execution_count": 143,
   "metadata": {
    "id": "a0d50bed-0dc9-4672-a446-f677b7282bb0"
   },
   "outputs": [],
   "source": [
    "convert_height_column(working_df)"
   ]
  },
  {
   "cell_type": "markdown",
   "metadata": {
    "id": "a611380e-47fe-4e81-8312-25876fb2025d"
   },
   "source": [
    "4- Create a function that converts the weight column from pounds to kilograms"
   ]
  },
  {
   "cell_type": "code",
   "execution_count": 144,
   "metadata": {
    "id": "1532605a-d642-40c8-a15f-a8825b8276bd"
   },
   "outputs": [],
   "source": [
    "### Complete in this cell: convert weight column\n",
    "def convert_weight_column(working_df):\n",
    "    working_df['WEIGHT']=working_df['WEIGHT'].apply(lambda x: int(round((int(x)*0.4535924))))"
   ]
  },
  {
   "cell_type": "code",
   "execution_count": 145,
   "metadata": {
    "id": "34ea64a1-1269-48f1-a76a-492c9e9f8adb"
   },
   "outputs": [],
   "source": [
    "convert_weight_column(working_df)"
   ]
  },
  {
   "cell_type": "markdown",
   "metadata": {
    "id": "0d94c670-4e24-479a-aed1-c72a1082b452"
   },
   "source": [
    "5- Create a function that calculates the age in (years, months, days) and saves it in a new string column, example: \"22 years, 5 months, 25 days\" "
   ]
  },
  {
   "cell_type": "code",
   "execution_count": 147,
   "metadata": {
    "id": "1f7ec1c5-2820-4660-8c93-1a2ad44e3bb0"
   },
   "outputs": [],
   "source": [
    "### Complete in this cell: add age column\n",
    "def add_age_column(working_df):\n",
    "    working_df['AGE']=working_df[\"BIRTHDATE\"].apply(lambda x: relativedelta(date.today(), x.date()))\n",
    "    working_df['AGE']=working_df[\"AGE\"].apply(lambda x: f\"{x.years} years, {x.months} months, {x.days} days\") \n",
    "  "
   ]
  },
  {
   "cell_type": "code",
   "execution_count": 148,
   "metadata": {
    "id": "7796ed0f-4711-442b-865e-d8b09be3e227"
   },
   "outputs": [],
   "source": [
    "add_age_column(working_df)"
   ]
  },
  {
   "cell_type": "markdown",
   "metadata": {
    "id": "25b55463-d16e-4635-a951-caaeb5a6795b"
   },
   "source": [
    "6- Create a function that takes care of the disambiguation of the \"POSITION\" column. Should replace all positions that are mixed with the first one listed."
   ]
  },
  {
   "cell_type": "code",
   "execution_count": 149,
   "metadata": {
    "id": "b32acf08-6ffa-4dae-9cfb-8ff783b6ce5b"
   },
   "outputs": [],
   "source": [
    "### Complete in this cell: disambiguation of the position column\n",
    "def update_position(working_df):\n",
    "    working_df['POSITION']=working_df['POSITION'].apply(lambda x : x.split('-')[0])"
   ]
  },
  {
   "cell_type": "code",
   "execution_count": 150,
   "metadata": {
    "id": "6bdc5317-86cd-48ad-96ca-945f8f493bef"
   },
   "outputs": [],
   "source": [
    "update_position(working_df)"
   ]
  },
  {
   "cell_type": "markdown",
   "metadata": {
    "id": "0cad9445-eee0-4fdf-b745-a0aac7138c87"
   },
   "source": [
    "7- Review that the working dataset has all requested columns with its corresponding datatypes and save it as a csv with name \"nba_players_processed_dataset.csv\""
   ]
  },
  {
   "cell_type": "code",
   "execution_count": 151,
   "metadata": {
    "id": "7b423e20-c9f6-449a-8d8a-497bd464811d"
   },
   "outputs": [],
   "source": [
    "working_df.reset_index(drop=True,inplace=True)\n",
    "working_df.to_csv(\"nba_players_processed_dataset.csv\")"
   ]
  },
  {
   "cell_type": "markdown",
   "metadata": {
    "id": "6e794f61-3cc8-4899-a999-858a3cf0b959"
   },
   "source": [
    "## Analyzing and Visualizing data"
   ]
  },
  {
   "cell_type": "markdown",
   "metadata": {
    "id": "754b6690-e0c7-42ce-ac4a-45d000a5d9a8"
   },
   "source": [
    "Now that we have the data, let's do some work"
   ]
  },
  {
   "cell_type": "markdown",
   "metadata": {
    "id": "b3f4a2fc-1f4f-4a18-ad43-fb125317395b"
   },
   "source": [
    "1- Calculate and print the following metrics:\n",
    "\n",
    "    - General metrics:\n",
    "        - Total number of players\n",
    "        - Number of USA born players\n",
    "        - Number of foreign players\n",
    "        - Number of players per position\n",
    "        - Number of players per team\n",
    "        - Number of rookies (first year players)\n",
    "    - Players description\n",
    "        - Average player age (in years)\n",
    "        - Youngest player age (years and days, i.e: 18 years and 16 days)\n",
    "        - Oldest player age (years and days, i.e: 40 years and 160 days)\n",
    "        - Min and Max players height\n",
    "        - Average height of players per position\n",
    "    - Contracts\n",
    "        - Min and Max salary of all players\n",
    "        - Mean and Median salary of all players\n",
    "\n",
    "Bonus: if you can, calculate how many players retired between the end of the 2020-2021 season and the start of the 2021-22 season."
   ]
  },
  {
   "cell_type": "code",
   "execution_count": 152,
   "metadata": {
    "id": "b5f62de4-8ddb-4377-a87c-a3cc655b6321"
   },
   "outputs": [
    {
     "name": "stdout",
     "output_type": "stream",
     "text": [
      "--------------------------------------------------------------------------------------------\n",
      "Players: 446\n",
      "--------------------------------------------------------------------------------------------\n",
      "USA born players: 338\n",
      "--------------------------------------------------------------------------------------------\n",
      "Foreign players: 108\n",
      "--------------------------------------------------------------------------------------------\n"
     ]
    },
    {
     "data": {
      "text/plain": [
       "POSITION\n",
       "Center      59\n",
       "Forward    175\n",
       "Guard      212\n",
       "Name: POSITION, dtype: int64"
      ]
     },
     "metadata": {},
     "output_type": "display_data"
    },
    {
     "name": "stdout",
     "output_type": "stream",
     "text": [
      "--------------------------------------------------------------------------------------------\n"
     ]
    },
    {
     "data": {
      "text/plain": [
       "TEAM_NAME\n",
       "76ers            15\n",
       "Bucks            14\n",
       "Bulls            16\n",
       "Cavaliers        16\n",
       "Celtics          14\n",
       "Clippers         13\n",
       "Grizzlies        15\n",
       "Hawks            14\n",
       "Heat             15\n",
       "Hornets          15\n",
       "Jazz             15\n",
       "Kings            15\n",
       "Knicks           14\n",
       "Lakers           15\n",
       "Magic            15\n",
       "Mavericks        15\n",
       "Nets             15\n",
       "Nuggets          14\n",
       "Pacers           15\n",
       "Pelicans         16\n",
       "Pistons          14\n",
       "Raptors          15\n",
       "Rockets          15\n",
       "Spurs            16\n",
       "Suns             15\n",
       "Thunder          15\n",
       "Timberwolves     15\n",
       "Trail Blazers    15\n",
       "Warriors         15\n",
       "Wizards          15\n",
       "Name: TEAM_NAME, dtype: int64"
      ]
     },
     "metadata": {},
     "output_type": "display_data"
    },
    {
     "name": "stdout",
     "output_type": "stream",
     "text": [
      "--------------------------------------------------------------------------------------------\n",
      "Quantity of rookies: 60\n",
      "--------------------------------------------------------------------------------------------\n"
     ]
    }
   ],
   "source": [
    "### Complete in this cell: print general metrics\n",
    "#- Total number of players\n",
    "print('--------------------------------------------------------------------------------------------')\n",
    "print(f'Players: {working_df.shape[0]}')\n",
    "print('--------------------------------------------------------------------------------------------')\n",
    "# - Number of USA born players\n",
    "print(f'USA born players: {working_df[working_df[\"COUNTRY\"]==\"USA\"][\"COUNTRY\"].count()}')\n",
    "print('--------------------------------------------------------------------------------------------')\n",
    "\n",
    "#- Number of foreign players\n",
    "print(f'Foreign players: {working_df[working_df[\"COUNTRY\"]!=\"USA\"][\"COUNTRY\"].count()}')\n",
    "print('--------------------------------------------------------------------------------------------')\n",
    "\n",
    "#- Number of players per position\n",
    "display(working_df.groupby(by='POSITION')['POSITION'].count())\n",
    "print('--------------------------------------------------------------------------------------------')\n",
    "\n",
    "#- Number of players per team\n",
    "display(working_df.groupby(by='TEAM_NAME')['TEAM_NAME'].count())\n",
    "print('--------------------------------------------------------------------------------------------')\n",
    "\n",
    "#- Number of rookies (first year players)\n",
    "print(f\"Quantity of rookies: {working_df[working_df['SEASON_EXP']==0].shape[0]}\")\n",
    "print('--------------------------------------------------------------------------------------------')\n",
    "\n"
   ]
  },
  {
   "cell_type": "code",
   "execution_count": 153,
   "metadata": {
    "id": "660fe44e-b928-4097-999a-2b8f269fa32d"
   },
   "outputs": [
    {
     "name": "stdout",
     "output_type": "stream",
     "text": [
      "--------------------------------------------------------------------------------------------\n",
      "Average player age: 26.18\n",
      "--------------------------------------------------------------------------------------------\n",
      "Youngest player age: 19 years 25 days\n",
      "--------------------------------------------------------------------------------------------\n",
      "Oldest player age: 41 years 16 days\n",
      "--------------------------------------------------------------------------------------------\n",
      "Min_height:175, Max_height: 221\n",
      "--------------------------------------------------------------------------------------------\n",
      "Average Height per position : \n",
      "POSITION\n",
      "Center     210.813559\n",
      "Forward    203.051429\n",
      "Guard      192.438679\n",
      "Name: HEIGHT, dtype: float64\n",
      "--------------------------------------------------------------------------------------------\n"
     ]
    }
   ],
   "source": [
    "#- Players description\n",
    "print('--------------------------------------------------------------------------------------------')\n",
    "#- Average player age (in years)\n",
    "print(f\"Average player age: {round(working_df['AGE'].apply(lambda x: int(x[:2])).mean(),2)}\")\n",
    "print('--------------------------------------------------------------------------------------------')\n",
    "\n",
    "#- Youngest player age (years and days, i.e: 18 years and 16 days)\n",
    "print(f\"Youngest player age: {working_df['AGE'].min().split(',')[0] + working_df['AGE'].min().split(',')[2]}\")\n",
    "\n",
    "#- Oldest player age (years and days, i.e: 40 years and 160 days)\n",
    "print('--------------------------------------------------------------------------------------------')\n",
    "print(f\"Oldest player age: {working_df['AGE'].max().split(',')[0] + working_df['AGE'].max().split(',')[2]}\")\n",
    "#- Min and Max players height\n",
    "print('--------------------------------------------------------------------------------------------')\n",
    "print(f'Min_height:{working_df[\"HEIGHT\"].min()}, Max_height: {working_df[\"HEIGHT\"].max()}')\n",
    "\n",
    "#- Average height of players per position\n",
    "print('--------------------------------------------------------------------------------------------')\n",
    "\n",
    "print(f\"Average Height per position : \\n{working_df.groupby('POSITION')['HEIGHT'].mean()}\")\n",
    "print('--------------------------------------------------------------------------------------------')\n",
    "\n",
    "    "
   ]
  },
  {
   "cell_type": "code",
   "execution_count": 154,
   "metadata": {
    "id": "42c6c5e5-e800-479b-b575-12a578e53400"
   },
   "outputs": [
    {
     "name": "stdout",
     "output_type": "stream",
     "text": [
      "--------------------------------------------------------------------------------------------\n",
      "Max_Salary: $45,780,966.00,\n",
      "Min_Salary: $5,318.00\n",
      "--------------------------------------------------------------------------------------------\n",
      "Mean_Salary: $8,728,325.71\n",
      "Median_Salary: $4,405,080.00\n",
      "--------------------------------------------------------------------------------------------\n"
     ]
    }
   ],
   "source": [
    "### Complete in this cell: Contracts\n",
    "#- Min and Max salary of all players\n",
    "print('--------------------------------------------------------------------------------------------')\n",
    "print(f\"Max_Salary: ${working_df['SALARY'].max():,.2f},\\nMin_Salary: ${working_df['SALARY'].min():,.2f}\")\n",
    "print('--------------------------------------------------------------------------------------------')\n",
    "#- Mean and Median salary of all players\n",
    "print(f\"Mean_Salary: ${working_df['SALARY'].mean():,.2f}\\nMedian_Salary: ${working_df['SALARY'].median():,.2f}\")\n",
    "print('--------------------------------------------------------------------------------------------')\n"
   ]
  },
  {
   "cell_type": "markdown",
   "metadata": {
    "id": "3a146e0c-ce0d-4e0c-971e-5b21e13fa077"
   },
   "source": [
    "2- Plot the relationship between scoring (points per game) and salary of all players, the players positions should also be visible."
   ]
  },
  {
   "cell_type": "code",
   "execution_count": 155,
   "metadata": {
    "id": "da36f3c1-0e69-47fd-a39c-67ce53f72851"
   },
   "outputs": [
    {
     "data": {
      "text/plain": [
       "<AxesSubplot:xlabel='PTS', ylabel='SALARY'>"
      ]
     },
     "execution_count": 155,
     "metadata": {},
     "output_type": "execute_result"
    },
    {
     "data": {
      "image/png": "[encoded data removed]",
      "text/plain": [
       "<Figure size 432x288 with 1 Axes>"
      ]
     },
     "metadata": {
      "needs_background": "light"
     },
     "output_type": "display_data"
    }
   ],
   "source": [
    "### Complete in this cell:  Relationship between scoring and salary (in millions of dollars)\n",
    "sns.scatterplot(x=working_df['PTS'],y=working_df['SALARY']/1000000,hue=working_df['POSITION'])"
   ]
  },
  {
   "cell_type": "markdown",
   "metadata": {
    "id": "0e188438-5ea0-4299-9597-3e038661710f"
   },
   "source": [
    "3- Now plot assists-vs-salary and rebounding-vs-salary"
   ]
  },
  {
   "cell_type": "code",
   "execution_count": 156,
   "metadata": {
    "id": "47fe0a50-996c-46a3-bd3c-f3863d4bc176"
   },
   "outputs": [
    {
     "data": {
      "text/plain": [
       "<AxesSubplot:xlabel='REB', ylabel='SALARY'>"
      ]
     },
     "execution_count": 156,
     "metadata": {},
     "output_type": "execute_result"
    },
    {
     "data": {
      "image/png": "[encoded data removed]",
      "text/plain": [
       "<Figure size 1440x720 with 2 Axes>"
      ]
     },
     "metadata": {
      "needs_background": "light"
     },
     "output_type": "display_data"
    }
   ],
   "source": [
    "### Complete in this cell: plot assist-vs-salary, rebounding-vs-salary\n",
    "plt.rcParams[\"figure.figsize\"] = (20,10)\n",
    "fig, axs = plt.subplots(ncols=2)\n",
    "sns.scatterplot(data=working_df, x=\"AST\", y=\"SALARY\",label='Assist vs Salary',ax=axs[0])\n",
    "sns.scatterplot(data=working_df, x=\"REB\", y=\"SALARY\",label='Rebounding vs Salary',ax=axs[1])"
   ]
  },
  {
   "cell_type": "markdown",
   "metadata": {
    "id": "6d33d74b-dbc1-4d7d-93ab-72d0f12de486"
   },
   "source": [
    "4- When NBA players enter the league, they have low value salaries during what is called their \"rookie contract\". This means that it doesn't matter how well the player performs, they can't have large salaries. This can distort our understanding of how much teams value each skill, as a player could score 50 points a game and still earn just a couple of millions. So, lets now plot points, assists and rebounding vs salary, but only for players that have more than 4 years of experience (the typical length of a rookie contract)"
   ]
  },
  {
   "cell_type": "code",
   "execution_count": 157,
   "metadata": {
    "id": "761750a3-0349-4e3e-ad56-cbb829117565"
   },
   "outputs": [
    {
     "data": {
      "text/plain": [
       "<AxesSubplot:xlabel='AST', ylabel='SALARY'>"
      ]
     },
     "execution_count": 157,
     "metadata": {},
     "output_type": "execute_result"
    },
    {
     "data": {
      "image/png": "[encoded data removed]",
      "text/plain": [
       "<Figure size 1440x720 with 3 Axes>"
      ]
     },
     "metadata": {
      "needs_background": "light"
     },
     "output_type": "display_data"
    }
   ],
   "source": [
    "### Complete in this cell: non rookie contracts\n",
    "working_df_without_rookies=working_df[working_df['SEASON_EXP']>4]\n",
    "fig, axs = plt.subplots(ncols=3)\n",
    "sns.scatterplot(data=working_df_without_rookies,x='PTS',y='SALARY',label='Points VS Salary',ax=axs[0])\n",
    "sns.scatterplot(data=working_df_without_rookies,x='REB',y='SALARY',label='Rebounding VS Salary',ax=axs[1])\n",
    "sns.scatterplot(data=working_df_without_rookies,x='AST',y='SALARY',label='Asists VS Salary',ax=axs[2])\n"
   ]
  },
  {
   "cell_type": "markdown",
   "metadata": {
    "id": "e52dcf3d-a009-47c4-b4a3-a5cb94e66b2e"
   },
   "source": [
    "5- Plot the scoring average grouped by position, we want to be able to see median, quartiles, etc "
   ]
  },
  {
   "cell_type": "code",
   "execution_count": 158,
   "metadata": {
    "id": "e85a80b1-1e1c-4b97-881b-41caa3473436"
   },
   "outputs": [
    {
     "data": {
      "text/plain": [
       "<AxesSubplot:xlabel='POSITION', ylabel='PTS'>"
      ]
     },
     "execution_count": 158,
     "metadata": {},
     "output_type": "execute_result"
    },
    {
     "data": {
      "image/png": "[encoded data removed]",
      "text/plain": [
       "<Figure size 1440x720 with 2 Axes>"
      ]
     },
     "metadata": {
      "needs_background": "light"
     },
     "output_type": "display_data"
    }
   ],
   "source": [
    "### Complete in this cell: Scoring average grouped by position\n",
    "working_df_grouped=working_df.groupby('POSITION')['PTS'].mean()\n",
    "\n",
    "fig, axs = plt.subplots(nrows=2)\n",
    "sns.violinplot(data=working_df,x='POSITION', y='PTS',ax=axs[0])\n",
    "sns.boxplot(data=working_df,x='POSITION', y='PTS',ax=axs[1])"
   ]
  },
  {
   "cell_type": "markdown",
   "metadata": {
    "id": "2a669e88-8555-4e7c-aab7-83d3683dd26e"
   },
   "source": [
    "6- Plot the Height distribution of all players"
   ]
  },
  {
   "cell_type": "code",
   "execution_count": 159,
   "metadata": {
    "id": "648e15f1-d120-413e-b244-15c88fdc914f"
   },
   "outputs": [
    {
     "data": {
      "text/plain": [
       "<AxesSubplot:xlabel='POSITION', ylabel='PTS'>"
      ]
     },
     "execution_count": 159,
     "metadata": {},
     "output_type": "execute_result"
    }
   ],
   "source": [
    "### Complete in this cell: height distribution\n",
    "sns.histplot(data=working_df,x='HEIGHT',ax=axs[0])\n",
    "sns.kdeplot(data=working_df,x='HEIGHT',ax=axs[1],fill=True)"
   ]
  },
  {
   "cell_type": "markdown",
   "metadata": {
    "id": "42f87010-5100-4331-907b-8b602226fbb2"
   },
   "source": [
    "OPTIONAL: Can you find a way to draw a world map and show how many active players per country the NBA has? [Example](https://i.redd.it/8qymui9fnin71.jpg)"
   ]
  },
  {
   "cell_type": "code",
   "execution_count": 161,
   "metadata": {},
   "outputs": [
    {
     "name": "stdout",
     "output_type": "stream",
     "text": [
      "Collecting geopandas\n",
      "  Using cached geopandas-0.10.2-py2.py3-none-any.whl (1.0 MB)\n",
      "Collecting fiona>=1.8\n",
      "  Using cached Fiona-1.8.21.tar.gz (1.0 MB)\n",
      "  Preparing metadata (setup.py): started\n",
      "  Preparing metadata (setup.py): finished with status 'error'\n"
     ]
    },
    {
     "name": "stderr",
     "output_type": "stream",
     "text": [
      "  error: subprocess-exited-with-error\n",
      "  \n",
      "  python setup.py egg_info did not run successfully.\n",
      "  exit code: 1\n",
      "  \n",
      "  [1 lines of output]\n",
      "  A GDAL API version must be specified. Provide a path to gdal-config using a GDAL_CONFIG environment variable or use a GDAL_VERSION environment variable.\n",
      "  [end of output]\n",
      "  \n",
      "  note: This error originates from a subprocess, and is likely not a problem with pip.\n",
      "error: metadata-generation-failed\n",
      "\n",
      "Encountered error while generating package metadata.\n",
      "\n",
      "See above for output.\n",
      "\n",
      "note: This is an issue with the package mentioned above, not pip.\n",
      "hint: See above for details.\n"
     ]
    }
   ],
   "source": [
    "!pip install geopandas"
   ]
  },
  {
   "cell_type": "code",
   "execution_count": 160,
   "metadata": {
    "id": "396ece64-3cbb-4c17-9fe1-960ab8998982"
   },
   "outputs": [
    {
     "name": "stderr",
     "output_type": "stream",
     "text": [
      "<ipython-input-160-9a56dce04e6e>:2: SettingWithCopyWarning: \n",
      "A value is trying to be set on a copy of a slice from a DataFrame.\n",
      "Try using .loc[row_indexer,col_indexer] = value instead\n",
      "\n",
      "See the caveats in the documentation: https://pandas.pydata.org/pandas-docs/stable/user_guide/indexing.html#returning-a-view-versus-a-copy\n",
      "  working_df['PLAYER_NAME']=working_df['PLAYER_NAME'].astype(str)\n",
      "<ipython-input-160-9a56dce04e6e>:3: SettingWithCopyWarning: \n",
      "A value is trying to be set on a copy of a slice from a DataFrame.\n",
      "Try using .loc[row_indexer,col_indexer] = value instead\n",
      "\n",
      "See the caveats in the documentation: https://pandas.pydata.org/pandas-docs/stable/user_guide/indexing.html#returning-a-view-versus-a-copy\n",
      "  working_df['COUNTRY']=working_df['COUNTRY'].astype(str)\n",
      "<ipython-input-160-9a56dce04e6e>:4: SettingWithCopyWarning: \n",
      "A value is trying to be set on a copy of a slice from a DataFrame.\n",
      "Try using .loc[row_indexer,col_indexer] = value instead\n",
      "\n",
      "See the caveats in the documentation: https://pandas.pydata.org/pandas-docs/stable/user_guide/indexing.html#returning-a-view-versus-a-copy\n",
      "  working_df['COUNTRY']=working_df['COUNTRY'].apply(lambda x: x.replace('USA','United States of America') if x=='USA' else x)\n"
     ]
    },
    {
     "ename": "NameError",
     "evalue": "name 'geopandas' is not defined",
     "output_type": "error",
     "traceback": [
      "\u001b[1;31m---------------------------------------------------------------------------\u001b[0m",
      "\u001b[1;31mNameError\u001b[0m                                 Traceback (most recent call last)",
      "\u001b[1;32m<ipython-input-160-9a56dce04e6e>\u001b[0m in \u001b[0;36m<module>\u001b[1;34m\u001b[0m\n\u001b[0;32m      7\u001b[0m \u001b[1;33m\u001b[0m\u001b[0m\n\u001b[0;32m      8\u001b[0m \u001b[1;33m\u001b[0m\u001b[0m\n\u001b[1;32m----> 9\u001b[1;33m \u001b[0mworld\u001b[0m \u001b[1;33m=\u001b[0m \u001b[0mgeopandas\u001b[0m\u001b[1;33m.\u001b[0m\u001b[0mread_file\u001b[0m\u001b[1;33m(\u001b[0m\u001b[0mgeopandas\u001b[0m\u001b[1;33m.\u001b[0m\u001b[0mdatasets\u001b[0m\u001b[1;33m.\u001b[0m\u001b[0mget_path\u001b[0m\u001b[1;33m(\u001b[0m\u001b[1;34m'naturalearth_lowres'\u001b[0m\u001b[1;33m)\u001b[0m\u001b[1;33m)\u001b[0m\u001b[1;33m\u001b[0m\u001b[1;33m\u001b[0m\u001b[0m\n\u001b[0m\u001b[0;32m     10\u001b[0m \u001b[0mtable\u001b[0m \u001b[1;33m=\u001b[0m \u001b[0mworld\u001b[0m\u001b[1;33m.\u001b[0m\u001b[0mmerge\u001b[0m\u001b[1;33m(\u001b[0m\u001b[0mworking_df_group\u001b[0m\u001b[1;33m,\u001b[0m \u001b[0mhow\u001b[0m\u001b[1;33m=\u001b[0m\u001b[1;34m\"left\"\u001b[0m\u001b[1;33m,\u001b[0m \u001b[0mleft_on\u001b[0m\u001b[1;33m=\u001b[0m\u001b[1;33m[\u001b[0m\u001b[1;34m'name'\u001b[0m\u001b[1;33m]\u001b[0m\u001b[1;33m,\u001b[0m \u001b[0mright_on\u001b[0m\u001b[1;33m=\u001b[0m\u001b[1;33m[\u001b[0m\u001b[1;34m'COUNTRY_2'\u001b[0m\u001b[1;33m]\u001b[0m\u001b[1;33m)\u001b[0m\u001b[1;33m\u001b[0m\u001b[1;33m\u001b[0m\u001b[0m\n\u001b[0;32m     11\u001b[0m \u001b[1;33m\u001b[0m\u001b[0m\n",
      "\u001b[1;31mNameError\u001b[0m: name 'geopandas' is not defined"
     ]
    }
   ],
   "source": [
    "working_df=working_df[['PLAYER_NAME','COUNTRY']]\n",
    "working_df['PLAYER_NAME']=working_df['PLAYER_NAME'].astype(str)\n",
    "working_df['COUNTRY']=working_df['COUNTRY'].astype(str)\n",
    "working_df['COUNTRY']=working_df['COUNTRY'].apply(lambda x: x.replace('USA','United States of America') if x=='USA' else x)\n",
    "working_df_group=working_df.groupby('COUNTRY').count()\n",
    "working_df_group['COUNTRY_2']=working_df_group.index\n",
    "\n",
    "\n",
    "world = geopandas.read_file(geopandas.datasets.get_path('naturalearth_lowres'))\n",
    "table = world.merge(working_df_group, how=\"left\", left_on=['name'], right_on=['COUNTRY_2'])\n",
    "\n",
    "table.dropna(subset=['PLAYER_NAME'],inplace=True)\n",
    "# Create a map\n",
    "my_map = folium.Map()\n",
    "# Add the data\n",
    "folium.Choropleth(\n",
    "    geo_data=table,\n",
    "    name='choropleth',\n",
    "    data=table,\n",
    "    columns=['COUNTRY_2', 'PLAYER_NAME'],\n",
    "    key_on='feature.properties.name',\n",
    "    fill_color='OrRd',\n",
    "    fill_opacity=0.7,\n",
    "    line_opacity=0.2,\n",
    "    legend_name='Players by country'\n",
    ").add_to(my_map)\n",
    "my_map\n"
   ]
  },
  {
   "cell_type": "code",
   "execution_count": null,
   "metadata": {
    "id": "165e4a5c-1814-4061-a73a-d5ff94489f5a"
   },
   "outputs": [],
   "source": []
  }
 ],
 "metadata": {
  "colab": {
   "name": "AnyoneAI_Sprint1_Project1.ipynb",
   "provenance": []
  },
  "kernelspec": {
   "display_name": "Python 3",
   "language": "python",
   "name": "python3"
  },
  "language_info": {
   "codemirror_mode": {
    "name": "ipython",
    "version": 3
   },
   "file_extension": ".py",
   "mimetype": "text/x-python",
   "name": "python",
   "nbconvert_exporter": "python",
   "pygments_lexer": "ipython3",
   "version": "3.8.5"
  }
 },
 "nbformat": 4,
 "nbformat_minor": 5
}
